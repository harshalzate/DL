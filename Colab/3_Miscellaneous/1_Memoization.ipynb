{
  "nbformat": 4,
  "nbformat_minor": 0,
  "metadata": {
    "colab": {
      "private_outputs": true,
      "provenance": [],
      "authorship_tag": "ABX9TyM02ajwvU+ZLIwQiABNFhCU",
      "include_colab_link": true
    },
    "kernelspec": {
      "name": "python3",
      "display_name": "Python 3"
    },
    "language_info": {
      "name": "python"
    }
  },
  "cells": [
    {
      "cell_type": "markdown",
      "metadata": {
        "id": "view-in-github",
        "colab_type": "text"
      },
      "source": [
        "<a href=\"https://colab.research.google.com/github/harshalzate/DL/blob/main/Colab/3_Miscellaneous/1_Memoization.ipynb\" target=\"_parent\"><img src=\"https://colab.research.google.com/assets/colab-badge.svg\" alt=\"Open In Colab\"/></a>"
      ]
    },
    {
      "cell_type": "code",
      "execution_count": null,
      "metadata": {
        "id": "Wuj_5fvIEhJF"
      },
      "outputs": [],
      "source": [
        "d = {0 :1, 1:1}\n",
        "def fact(n,d):\n",
        "  if n in d:\n",
        "    return d[n]\n",
        "  else:\n",
        "    d[n] = fact(n-1,d) + fact(n-2,d)\n",
        "    return d[n]\n",
        "\n",
        "fact(10,d)"
      ]
    },
    {
      "cell_type": "code",
      "source": [],
      "metadata": {
        "id": "8-MgvLxdE1J3"
      },
      "execution_count": null,
      "outputs": []
    }
  ]
}